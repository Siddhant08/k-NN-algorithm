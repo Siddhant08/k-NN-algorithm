{
 "cells": [
  {
   "cell_type": "code",
   "execution_count": 18,
   "metadata": {},
   "outputs": [],
   "source": [
    "#import basic libraries\n",
    "from sklearn.model_selection import train_test_split\n",
    "import numpy as np"
   ]
  },
  {
   "cell_type": "markdown",
   "metadata": {},
   "source": [
    "# Function to implement KNN for any value of k(part of extra question)"
   ]
  },
  {
   "cell_type": "code",
   "execution_count": 19,
   "metadata": {},
   "outputs": [],
   "source": [
    "#KNN function for a generalized value of k\n",
    "def KNN(X_train,y_train,X_test,k):\n",
    "    #list to store distances and labels\n",
    "    dist = []\n",
    "    labels = []\n",
    "    #calculate and store distance in a list along with index\n",
    "    for i in range(len(X_train)):\n",
    "        dist.append([np.sqrt(np.sum(np.square(X_test - X_train[i, :]))), i])\n",
    "\n",
    "    dist = sorted(dist)\n",
    "    #get labels of the k nearest neighbours\n",
    "    for i in range(k):\n",
    "        labels.append(y_train[dist[i][1]])\n",
    "\n",
    "    #return most common label\n",
    "    return max(set(labels), key = labels.count)"
   ]
  },
  {
   "cell_type": "markdown",
   "metadata": {},
   "source": [
    "# Iris data set prediction"
   ]
  },
  {
   "cell_type": "code",
   "execution_count": 20,
   "metadata": {},
   "outputs": [],
   "source": [
    "#load Iris data set using scikit-learn library\n",
    "from sklearn.datasets import load_iris\n",
    "iris = load_iris()\n",
    "\n",
    "#spit data set into training and test sets\n",
    "X_train, X_test, y_train, y_test = train_test_split(iris['data'],iris['target'], random_state=1210) #bday passed in DDMM format for random_state parameter"
   ]
  },
  {
   "cell_type": "code",
   "execution_count": 21,
   "metadata": {},
   "outputs": [
    {
     "name": "stdout",
     "output_type": "stream",
     "text": [
      "For k = 1\n",
      "Total errors:  2\n",
      "Error rate:  0.05263157894736842\n"
     ]
    }
   ],
   "source": [
    "#run KNN on test samples for k=1\n",
    "y_pred = []\n",
    "k=1     #value of k for knn\n",
    "for i in range(len(X_test)):\n",
    "    y_pred.append(KNN(X_train, y_train, X_test[i, :], k))\n",
    "\n",
    "#compute test errors and error rate\n",
    "errors=0\n",
    "for i in range(0,len(y_pred)):\n",
    "    if y_pred[i]!=y_test[i]:\n",
    "        errors+=1\n",
    "print('For k =',k)\n",
    "print('Total errors: ',errors)\n",
    "print('Error rate: ',errors/len(y_pred))"
   ]
  },
  {
   "cell_type": "code",
   "execution_count": 22,
   "metadata": {},
   "outputs": [
    {
     "name": "stdout",
     "output_type": "stream",
     "text": [
      "For k = 3\n",
      "Total errors:  1\n",
      "Error rate:  0.02631578947368421\n"
     ]
    }
   ],
   "source": [
    "#run KNN on test samples for k=3\n",
    "y_pred = []\n",
    "k=3     #value of k for knn\n",
    "for i in range(len(X_test)):\n",
    "    y_pred.append(KNN(X_train, y_train, X_test[i, :], k))\n",
    "\n",
    "#compute test errors and error rate\n",
    "errors=0\n",
    "for i in range(0,len(y_pred)):\n",
    "    if y_pred[i]!=y_test[i]:\n",
    "        errors+=1\n",
    "print('For k =',k)\n",
    "print('Total errors: ',errors)\n",
    "print('Error rate: ',errors/len(y_pred))"
   ]
  },
  {
   "cell_type": "markdown",
   "metadata": {},
   "source": [
    "# Extra question\n",
    "# Calculate the optimized value of k to get the least error rate"
   ]
  },
  {
   "cell_type": "code",
   "execution_count": 23,
   "metadata": {},
   "outputs": [
    {
     "name": "stdout",
     "output_type": "stream",
     "text": [
      "The values of k with least error rate i.e. 0.026 are: \n",
      "[3, 4, 5, 6]\n",
      "Time taken to execute this simulation: 1.5595781803131104s\n"
     ]
    }
   ],
   "source": [
    "#calculate the best value of k so as to minimize test error rate\n",
    "import time\n",
    "t=time.time()\n",
    "\n",
    "k_list=np.arange(1,51)\n",
    "errorRate_list=[]\n",
    "\n",
    "#trying the k-nn algorithm for values 1 to 50\n",
    "for k in k_list:\n",
    "    pred=[]\n",
    "    for i in range(len(X_test)):\n",
    "        pred.append(KNN(X_train, y_train, X_test[i, :], k))\n",
    "    errors=0\n",
    "    for i in range(0,len(pred)):\n",
    "        if pred[i]!=y_test[i]:\n",
    "            errors+=1\n",
    "    errorRate=errors/(len(pred))\n",
    "    errorRate_list.append(errorRate)\n",
    "\n",
    "#initialize list to store best k-values\n",
    "best_k_val=[]\n",
    "leastVal=min(errorRate_list)\n",
    "\n",
    "for i in range(0,len(errorRate_list)):\n",
    "    if errorRate_list[i]==leastVal:\n",
    "        best_k_val.append(i+1)\n",
    "print(\"The values of k with least error rate i.e. %.3f are: \" %leastVal)\n",
    "print(best_k_val)\n",
    "print(\"Time taken to execute this simulation: \"+str(time.time()-t)+\"s\")"
   ]
  },
  {
   "cell_type": "code",
   "execution_count": 24,
   "metadata": {},
   "outputs": [
    {
     "data": {
      "text/plain": [
       "[<matplotlib.lines.Line2D at 0x7f728237a518>]"
      ]
     },
     "execution_count": 24,
     "metadata": {},
     "output_type": "execute_result"
    },
    {
     "data": {
      "image/png": "[encoded data removed]",
      "text/plain": [
       "<matplotlib.figure.Figure at 0x7f728237a2e8>"
      ]
     },
     "metadata": {},
     "output_type": "display_data"
    }
   ],
   "source": [
    "#k-value v error rate plot\n",
    "from matplotlib import pyplot as plt\n",
    "plt.xlabel(\"k-values\",fontsize=16)\n",
    "plt.ylabel(\"Test error rates\",fontsize=16)\n",
    "plt.suptitle('k-value vs error rate plot',fontsize=20)\n",
    "plt.plot(k_list,errorRate_list)"
   ]
  },
  {
   "cell_type": "code",
   "execution_count": 25,
   "metadata": {},
   "outputs": [
    {
     "name": "stdout",
     "output_type": "stream",
     "text": [
      "The above plot validates our result above that the values 3,4,5 and 6 are the values for which the error rates are the least.\n"
     ]
    }
   ],
   "source": [
    "print(\"The above plot validates our result above that the values 3,4,5 and 6 are the values for which the error rates are the least.\")"
   ]
  },
  {
   "cell_type": "markdown",
   "metadata": {},
   "source": [
    "# Ionosphere data set prediction"
   ]
  },
  {
   "cell_type": "code",
   "execution_count": 26,
   "metadata": {},
   "outputs": [],
   "source": [
    "#get all 34 independent variables to X\n",
    "X = np.genfromtxt(\"ionosphere.txt\", delimiter=\",\",usecols=np.arange(34))\n",
    "#get target variable(column index 34) to y\n",
    "y = np.genfromtxt(\"ionosphere.txt\", delimiter=\",\",usecols=34, dtype='int')\n",
    "\n",
    "#spit data set into training and test sets\n",
    "X_train, X_test, y_train, y_test = train_test_split(X,y, random_state=1210) #bday passed in DDMM format for random_state parameter"
   ]
  },
  {
   "cell_type": "code",
   "execution_count": 27,
   "metadata": {},
   "outputs": [
    {
     "name": "stdout",
     "output_type": "stream",
     "text": [
      "For k = 1\n",
      "Total errors:  11\n",
      "Error rate:  0.125\n"
     ]
    }
   ],
   "source": [
    "#run KNN on test samples for k=1\n",
    "y_pred = []\n",
    "k=1     #value of k for knn\n",
    "for i in range(len(X_test)):\n",
    "    y_pred.append(KNN(X_train, y_train, X_test[i, :], k))\n",
    "\n",
    "#compute test errors and error rate\n",
    "errors=0\n",
    "for i in range(0,len(y_pred)):\n",
    "    if y_pred[i]!=y_test[i]:\n",
    "        errors+=1\n",
    "print('For k =',k)\n",
    "print('Total errors: ',errors)\n",
    "print('Error rate: ',errors/len(y_pred))"
   ]
  },
  {
   "cell_type": "code",
   "execution_count": 28,
   "metadata": {},
   "outputs": [
    {
     "name": "stdout",
     "output_type": "stream",
     "text": [
      "For k = 3\n",
      "Total errors:  13\n",
      "Error rate:  0.14772727272727273\n"
     ]
    }
   ],
   "source": [
    "#run KNN on test samples for k=3\n",
    "y_pred = []\n",
    "k=3     #value of k for knn\n",
    "for i in range(len(X_test)):\n",
    "    y_pred.append(KNN(X_train, y_train, X_test[i, :], k))\n",
    "\n",
    "#compute test errors and error rate\n",
    "errors=0\n",
    "for i in range(0,len(y_pred)):\n",
    "    if y_pred[i]!=y_test[i]:\n",
    "        errors+=1\n",
    "print('For k =',k)\n",
    "print('Total errors: ',errors)\n",
    "print('Error rate: ',errors/len(y_pred))"
   ]
  },
  {
   "cell_type": "markdown",
   "metadata": {},
   "source": [
    "# Extra question\n",
    "# Calculate the optimized value of k to get the least error rate"
   ]
  },
  {
   "cell_type": "code",
   "execution_count": 29,
   "metadata": {},
   "outputs": [
    {
     "name": "stdout",
     "output_type": "stream",
     "text": [
      "The values of k with least error rate i.e. 0.125 are: \n",
      "[1]\n",
      "Time taken to execute this simulation: 8.212007761001587s\n"
     ]
    }
   ],
   "source": [
    "#calculate the best value of k so as to minimize test error rate\n",
    "t=time.time()\n",
    "\n",
    "k_list=np.arange(1,51)\n",
    "errorRate_list=[]\n",
    "\n",
    "#trying the k-nn algorithm for values 1 to 50\n",
    "for k in k_list:\n",
    "    pred=[]\n",
    "    for i in range(len(X_test)):\n",
    "        pred.append(KNN(X_train, y_train, X_test[i, :], k))\n",
    "    errors=0\n",
    "    for i in range(0,len(pred)):\n",
    "        if pred[i]!=y_test[i]:\n",
    "            errors+=1\n",
    "    errorRate=errors/(len(pred))\n",
    "    errorRate_list.append(errorRate)\n",
    "\n",
    "#initialize list to store best k-values\n",
    "best_k_val=[]\n",
    "leastVal=min(errorRate_list)\n",
    "\n",
    "for i in range(0,len(errorRate_list)):\n",
    "    if errorRate_list[i]==leastVal:\n",
    "        best_k_val.append(i+1)\n",
    "print(\"The values of k with least error rate i.e. %.3f are: \" %leastVal)\n",
    "print(best_k_val)\n",
    "print(\"Time taken to execute this simulation: \"+str(time.time()-t)+\"s\")"
   ]
  },
  {
   "cell_type": "code",
   "execution_count": 30,
   "metadata": {},
   "outputs": [
    {
     "data": {
      "text/plain": [
       "[<matplotlib.lines.Line2D at 0x7f728227f390>]"
      ]
     },
     "execution_count": 30,
     "metadata": {},
     "output_type": "execute_result"
    },
    {
     "data": {
      "image/png": "[encoded data removed]",
      "text/plain": [
       "<matplotlib.figure.Figure at 0x7f728227f320>"
      ]
     },
     "metadata": {},
     "output_type": "display_data"
    }
   ],
   "source": [
    "#k-value v error rate plot\n",
    "plt.xlabel(\"k-values\",fontsize=16)\n",
    "plt.ylabel(\"Test error rates\",fontsize=16)\n",
    "plt.suptitle('k-value vs error rate plot',fontsize=20)\n",
    "plt.plot(k_list,errorRate_list)"
   ]
  },
  {
   "cell_type": "code",
   "execution_count": 32,
   "metadata": {},
   "outputs": [
    {
     "name": "stdout",
     "output_type": "stream",
     "text": [
      "The plot validates our result above that for k=1, the error rate is the least.\n"
     ]
    }
   ],
   "source": [
    "print(\"The plot validates our result above that for k=1, the error rate is the least.\")"
   ]
  },
  {
   "cell_type": "code",
   "execution_count": null,
   "metadata": {},
   "outputs": [],
   "source": []
  }
 ],
 "metadata": {
  "kernelspec": {
   "display_name": "Python 3",
   "language": "python",
   "name": "python3"
  },
  "language_info": {
   "codemirror_mode": {
    "name": "ipython",
    "version": 3
   },
   "file_extension": ".py",
   "mimetype": "text/x-python",
   "name": "python",
   "nbconvert_exporter": "python",
   "pygments_lexer": "ipython3",
   "version": "3.6.8"
  }
 },
 "nbformat": 4,
 "nbformat_minor": 2
}
